{
 "cells": [
  {
   "cell_type": "markdown",
   "metadata": {},
   "source": [
    "# CSIS 4260 - Special Topics in Data Analytics\n",
    "\n",
    "### Assignment 2 - Learning web scrapping and text analysis\n",
    "\n",
    "## Name: Roberto Escalante Gafau\n",
    "\n",
    "## ID: 300383075\n"
   ]
  },
  {
   "cell_type": "markdown",
   "metadata": {},
   "source": [
    "### Part 1: Web scraping\n"
   ]
  },
  {
   "cell_type": "markdown",
   "metadata": {},
   "source": [
    "#### Web Scraping using BeautifulSoup - Test with 5 articles"
   ]
  },
  {
   "cell_type": "code",
   "execution_count": 3,
   "metadata": {},
   "outputs": [],
   "source": [
    "import matplotlib.pyplot as plt"
   ]
  },
  {
   "cell_type": "code",
   "execution_count": 2,
   "metadata": {},
   "outputs": [
    {
     "name": "stdout",
     "output_type": "stream",
     "text": [
      "BeautifulSoup Execution Time: 0.83 sec | Articles Scraped: 5\n"
     ]
    }
   ],
   "source": [
    "import requests\n",
    "from bs4 import BeautifulSoup\n",
    "import csv\n",
    "import time\n",
    "\n",
    "AP_NEWS_URL = 'https://apnews.com/'\n",
    "HEADERS = {\n",
    "    'User-Agent': 'Mozilla/5.0 (Windows NT 10.0; Win64; x64) AppleWebKit/537.36 (KHTML, like Gecko) Chrome/58.0.3029.110 Safari/537.3'\n",
    "}\n",
    "\n",
    "start_time = time.time()\n",
    "\n",
    "# Fetch and parse the main page\n",
    "response = requests.get(AP_NEWS_URL, headers=HEADERS)\n",
    "m_soup = BeautifulSoup(response.text, 'html.parser')\n",
    "\n",
    "# Extract article links\n",
    "article_links = set()\n",
    "for article in m_soup.find_all('a', class_='Link'):\n",
    "    if article.find('span', class_='PagePromoContentIcons-text'):\n",
    "        href = article['href']\n",
    "        if href.startswith(\"/\"):\n",
    "            href = f\"https://apnews.com{href}\"\n",
    "        article_links.add(href)\n",
    "\n",
    "# Extract article titles and content\n",
    "article_data = []\n",
    "for link in list(article_links)[:5]:\n",
    "    response = requests.get(link, headers=HEADERS)\n",
    "    m_soup = BeautifulSoup(response.text, 'html.parser')\n",
    "\n",
    "    title_tag = m_soup.find('h1')\n",
    "    title = title_tag.get_text(strip=True) if title_tag else \"No title\"\n",
    "\n",
    "    content = ' '.join([p.get_text(strip=True) for p in m_soup.find_all('p')])\n",
    "\n",
    "    article_data.append((title, link, content))\n",
    "\n",
    "# Save data to CSV\n",
    "with open('apnews_bs4_sample.csv', 'w', newline='', encoding='utf-8') as file:\n",
    "    writer = csv.writer(file)\n",
    "    writer.writerow(['Title', 'Link', 'Content'])\n",
    "    writer.writerows(article_data)\n",
    "\n",
    "end_time = time.time()\n",
    "print(f\"BeautifulSoup Execution Time: {end_time - start_time:.2f} sec | Articles Scraped: {len(article_data)}\")"
   ]
  },
  {
   "cell_type": "markdown",
   "metadata": {},
   "source": [
    "#### Web Scraping using Playwright - Test with 5 articles"
   ]
  },
  {
   "cell_type": "code",
   "execution_count": 3,
   "metadata": {},
   "outputs": [
    {
     "name": "stdout",
     "output_type": "stream",
     "text": [
      "Playwright Execution Time: 26.32 sec | Articles Scraped: 5\n"
     ]
    }
   ],
   "source": [
    "import asyncio\n",
    "from playwright.async_api import async_playwright\n",
    "import csv\n",
    "import time\n",
    "\n",
    "AP_NEWS_URL = 'https://apnews.com/'\n",
    "HEADLESS = True  # Set to False if you want to see the browser\n",
    "\n",
    "async def fetch_article_links(page):\n",
    "    await page.goto(AP_NEWS_URL)\n",
    "    await page.wait_for_selector('a.Link')\n",
    "\n",
    "    links = set()\n",
    "    elements = await page.query_selector_all('a.Link')\n",
    "    for element in elements:\n",
    "        span = await element.query_selector('span.PagePromoContentIcons-text')\n",
    "        if span:\n",
    "            href = await element.get_attribute('href')\n",
    "            if href and href.startswith(\"/\"):\n",
    "                links.add(f\"https://apnews.com{href}\")\n",
    "            elif href:\n",
    "                links.add(href)\n",
    "    return list(links)[:5]\n",
    "\n",
    "async def fetch_article_data(page, link):\n",
    "    try:\n",
    "        await page.goto(link, timeout=60000)\n",
    "        await page.wait_for_selector('h1', timeout=20000)\n",
    "        title = await page.inner_text('h1')\n",
    "        paragraphs = await page.query_selector_all('p')\n",
    "        content = ' '.join([await p.inner_text() for p in paragraphs])\n",
    "        return title, content\n",
    "    except Exception as e:\n",
    "        print(f\"Failed to load {link}: {e}\")\n",
    "        return \"No title\", \"No content\"\n",
    "\n",
    "async def scrape_apnews():\n",
    "    start_time = time.time()\n",
    "    async with async_playwright() as p:\n",
    "        browser = await p.chromium.launch(headless=HEADLESS)\n",
    "        page = await browser.new_page()\n",
    "\n",
    "        article_links = await fetch_article_links(page)\n",
    "        article_data = []\n",
    "\n",
    "        for link in article_links:\n",
    "            title, content = await fetch_article_data(page, link)\n",
    "            article_data.append((title, link, content))\n",
    "\n",
    "        await browser.close()\n",
    "\n",
    "    with open('apnews_pw_sample.csv', 'w', newline='', encoding='utf-8') as file:\n",
    "        writer = csv.writer(file)\n",
    "        writer.writerow(['Title', 'Link', 'Content'])\n",
    "        writer.writerows(article_data)\n",
    "\n",
    "    end_time = time.time()\n",
    "    print(f\"Playwright Execution Time: {end_time - start_time:.2f} sec | Articles Scraped: {len(article_data)}\")\n",
    "\n",
    "# Run the Playwright scraper\n",
    "await scrape_apnews()"
   ]
  },
  {
   "cell_type": "markdown",
   "metadata": {},
   "source": [
    "#### Compare results"
   ]
  },
  {
   "cell_type": "code",
   "execution_count": 4,
   "metadata": {},
   "outputs": [
    {
     "name": "stdout",
     "output_type": "stream",
     "text": [
      "Playwright scraped 5 articles in 5 rows\n",
      "BeautifulSoup scraped 5 articles in 5 rows\n",
      "\n",
      "Average Content Length (Playwright): 5147.0\n",
      "Average Content Length (BeautifulSoup): 5331.8\n",
      "\n",
      "Playwright missing titles: 0\n",
      "BeautifulSoup missing titles: 0\n"
     ]
    }
   ],
   "source": [
    "import pandas as pd\n",
    "\n",
    "# Load data from both methods\n",
    "summary_data = pd.read_csv(\"apnews_pw_sample.csv\")\n",
    "bs4_data = pd.read_csv(\"apnews_bs4_sample.csv\")\n",
    "\n",
    "# Print basic stats\n",
    "print(f\"Playwright scraped {len(summary_data)} articles in {summary_data.shape[0]} rows\")\n",
    "print(f\"BeautifulSoup scraped {len(bs4_data)} articles in {bs4_data.shape[0]} rows\")\n",
    "\n",
    "# Compare text lengths (indicating completeness of data)\n",
    "summary_data[\"Content Length\"] = summary_data[\"Content\"].str.len()\n",
    "bs4_data[\"Content Length\"] = bs4_data[\"Content\"].str.len()\n",
    "\n",
    "print(\"\\nAverage Content Length (Playwright):\", summary_data[\"Content Length\"].mean())\n",
    "print(\"Average Content Length (BeautifulSoup):\", bs4_data[\"Content Length\"].mean())\n",
    "\n",
    "# Check missing titles or articles\n",
    "print(\"\\nPlaywright missing titles:\", summary_data[\"Title\"].eq(\"No title\").sum())\n",
    "print(\"BeautifulSoup missing titles:\", bs4_data[\"Title\"].eq(\"No title\").sum())"
   ]
  },
  {
   "cell_type": "markdown",
   "metadata": {},
   "source": [
    ">- After the tests I can see both Playwright and BeautifulSoup successfully scraped 5 articles.  \n",
    ">- BeautifulSoup is more efficient since it doesn't require launch a browser.  \n",
    ">- BeautifulSoup is faster and works well if articles are fully in HTML, seems to be the case here  \n",
    ">- In my tests I found that Playwright is extracting more content, looking to the results in detail I found the data is more clear in the BeautifulSoup sample file, and Playwright has more data because is scraping some text not related to the article but related to the APNews website.\n",
    ">- In conclussion, for my assignment I'll use BeautifulSoup to scrape the 100 articles\n"
   ]
  },
  {
   "cell_type": "markdown",
   "metadata": {},
   "source": [
    "#### Webscraping using BeautifulSoup - 100 articles"
   ]
  },
  {
   "cell_type": "code",
   "execution_count": 5,
   "metadata": {},
   "outputs": [
    {
     "name": "stdout",
     "output_type": "stream",
     "text": [
      "BeautifulSoup Execution Time: 15.62 sec | Articles Scraped: 100\n"
     ]
    }
   ],
   "source": [
    "\n",
    "AP_NEWS_URL = 'https://apnews.com/'\n",
    "HEADERS = {\n",
    "    'User-Agent': 'Mozilla/5.0 (Windows NT 10.0; Win64; x64) AppleWebKit/537.36 (KHTML, like Gecko) Chrome/58.0.3029.110 Safari/537.3'\n",
    "}\n",
    "\n",
    "start_time = time.time()\n",
    "\n",
    "# Fetch and parse the main page\n",
    "response = requests.get(AP_NEWS_URL, headers=HEADERS)\n",
    "m_soup = BeautifulSoup(response.text, 'html.parser')\n",
    "\n",
    "# Extract article links\n",
    "article_links = set()\n",
    "for article in m_soup.find_all('a', class_='Link'):\n",
    "    if article.find('span', class_='PagePromoContentIcons-text'):\n",
    "        href = article['href']\n",
    "        if href.startswith(\"/\"):\n",
    "            href = f\"https://apnews.com{href}\"\n",
    "        article_links.add(href)\n",
    "\n",
    "# Extract article titles and content\n",
    "article_data = []\n",
    "for link in list(article_links)[:100]:\n",
    "    response = requests.get(link, headers=HEADERS)\n",
    "    m_soup = BeautifulSoup(response.text, 'html.parser')\n",
    "\n",
    "    title_tag = m_soup.find('h1')\n",
    "    title = title_tag.get_text(strip=True) if title_tag else \"No title\"\n",
    "\n",
    "    content = ' '.join([p.get_text(strip=True) for p in m_soup.find_all('p')])\n",
    "\n",
    "    article_data.append((title, link, content))\n",
    "\n",
    "# Save data to CSV\n",
    "with open('apnews_bs4.csv', 'w', newline='', encoding='utf-8') as file:\n",
    "    writer = csv.writer(file)\n",
    "    writer.writerow(['Title', 'Link', 'Content'])\n",
    "    writer.writerows(article_data)\n",
    "\n",
    "end_time = time.time()\n",
    "print(f\"BeautifulSoup Execution Time: {end_time - start_time:.2f} sec | Articles Scraped: {len(article_data)}\")"
   ]
  },
  {
   "cell_type": "markdown",
   "metadata": {},
   "source": [
    "### Part 2: Text Analysis\n"
   ]
  },
  {
   "cell_type": "markdown",
   "metadata": {},
   "source": [
    "> In this part you will apply at least 2 algorithms to do text analysis on the data you collected\n",
    "> in part 1. You can choose either a library, algorithm or api (including LLM apis such as\n",
    "> Llama, chatgpt, deepseek etc). If using commercial API, please be aware that they might\n",
    "> be paid and, in that case, limit your expenses to under $5.\n",
    "> Please come up with a summary of each page along with an importance score which you\n",
    "> will drive by analysing the article/page text from the context of your topic. The importance\n",
    "> score should also have direction (positive or negative).\n",
    "> Please present the outcome of this analysis in a tabulated form along with your code.\n"
   ]
  },
  {
   "cell_type": "code",
   "execution_count": 8,
   "metadata": {},
   "outputs": [
    {
     "name": "stderr",
     "output_type": "stream",
     "text": [
      "[nltk_data] Downloading package vader_lexicon to\n",
      "[nltk_data]     /Users/robertoeg/nltk_data...\n",
      "[nltk_data]   Package vader_lexicon is already up-to-date!\n",
      "Device set to use mps:0\n",
      "Your max_length is set to 150, but your input_length is only 69. Since this is a summarization task, where outputs shorter than the input are typically wanted, you might consider decreasing max_length manually, e.g. summarizer('...', max_length=34)\n",
      "Your max_length is set to 150, but your input_length is only 74. Since this is a summarization task, where outputs shorter than the input are typically wanted, you might consider decreasing max_length manually, e.g. summarizer('...', max_length=37)\n",
      "Your max_length is set to 150, but your input_length is only 52. Since this is a summarization task, where outputs shorter than the input are typically wanted, you might consider decreasing max_length manually, e.g. summarizer('...', max_length=26)\n",
      "Your max_length is set to 150, but your input_length is only 83. Since this is a summarization task, where outputs shorter than the input are typically wanted, you might consider decreasing max_length manually, e.g. summarizer('...', max_length=41)\n",
      "Your max_length is set to 150, but your input_length is only 105. Since this is a summarization task, where outputs shorter than the input are typically wanted, you might consider decreasing max_length manually, e.g. summarizer('...', max_length=52)\n",
      "Your max_length is set to 150, but your input_length is only 63. Since this is a summarization task, where outputs shorter than the input are typically wanted, you might consider decreasing max_length manually, e.g. summarizer('...', max_length=31)\n",
      "Your max_length is set to 150, but your input_length is only 77. Since this is a summarization task, where outputs shorter than the input are typically wanted, you might consider decreasing max_length manually, e.g. summarizer('...', max_length=38)\n"
     ]
    },
    {
     "name": "stdout",
     "output_type": "stream",
     "text": [
      "                                               Title  \\\n",
      "0  Crowds flock to newest Catholic saint in Assis...   \n",
      "1  Wisconsin’s governor vetoes a bill that would ...   \n",
      "2  A mayor’s lawsuit shut down a newspaper over f...   \n",
      "3  Shock and surprise at strong earthquake that s...   \n",
      "4  Fewer Americans now see Canada as a close US a...   \n",
      "\n",
      "                                             Summary  Sentiment Score  \\\n",
      "0  Pilgrims have been pouring into a medieval hil...           0.9987   \n",
      "1  Democratic Gov. Tony Evers vetoed a Republican...          -0.7814   \n",
      "2  Everett, Mass. Mayor Carlo DeMaria smiles whil...          -0.7935   \n",
      "3  The 7.7 magnitude quake rocked Thailand and ne...          -0.7906   \n",
      "4  Americans are less likely to see Canada and th...          -0.5258   \n",
      "\n",
      "  Sentiment Direction  \n",
      "0            Positive  \n",
      "1            Negative  \n",
      "2            Negative  \n",
      "3            Negative  \n",
      "4            Negative  \n"
     ]
    }
   ],
   "source": [
    "import pandas as pd\n",
    "from transformers import pipeline\n",
    "from nltk.sentiment import SentimentIntensityAnalyzer\n",
    "import nltk\n",
    "nltk.download('vader_lexicon')\n",
    "\n",
    "# Load summarization and sentiment analysis models\n",
    "summarizer = pipeline(\"summarization\", model=\"facebook/bart-large-cnn\")\n",
    "sentiment_analyzer = SentimentIntensityAnalyzer()\n",
    "\n",
    "# Load the scraped articles\n",
    "df = pd.read_csv('apnews_bs4.csv')\n",
    "\n",
    "# Analyze each article\n",
    "results = []\n",
    "for idx, (_, row) in enumerate(df.iterrows()):\n",
    "    title = row['Title']\n",
    "    content = row['Content']\n",
    "\n",
    "    # Generate summary\n",
    "    summary = summarizer(content[:1024], max_length=150, min_length=50, do_sample=False)[0]['summary_text']\n",
    "\n",
    "    # Sentiment Analysis\n",
    "    sentiment_score = sentiment_analyzer.polarity_scores(content)['compound']\n",
    "    sentiment_label = 'Positive' if sentiment_score > 0 else 'Negative'\n",
    "\n",
    "    results.append((title, summary, sentiment_score, sentiment_label))\n",
    "\n",
    "# Convert results to DataFrame\n",
    "analysis_df = pd.DataFrame(results, columns=['Title', 'Summary', 'Sentiment Score', 'Sentiment Direction'])\n",
    "\n",
    "# Display the table\n",
    "print(analysis_df.head())\n",
    "\n",
    "# Save the analysis\n",
    "analysis_df.to_csv('apnews_summary.csv', index=False)\n",
    "\n",
    "# create an array with the sentiment scores\n",
    "sentiment_scores = analysis_df['Sentiment Score']\n",
    "\n",
    "# create an array with the sentiment direction\n",
    "sentiment_directions = analysis_df['Sentiment Direction']\n"
   ]
  },
  {
   "cell_type": "code",
   "execution_count": 4,
   "metadata": {},
   "outputs": [
    {
     "data": {
      "image/png": "[encoded data removed]",
      "text/plain": [
       "<Figure size 640x480 with 1 Axes>"
      ]
     },
     "metadata": {},
     "output_type": "display_data"
    }
   ],
   "source": [
    "# plot the sentiment scores\n",
    "plt.hist(sentiment_scores, bins=20, color='skyblue', edgecolor='black')\n",
    "plt.title('Sentiment Scores Distribution')\n",
    "plt.xlabel('Sentiment Score')\n",
    "plt.ylabel('Frequency')\n",
    "plt.show()"
   ]
  },
  {
   "cell_type": "code",
   "execution_count": 5,
   "metadata": {},
   "outputs": [
    {
     "data": {
      "image/png": "[encoded data removed]",
      "text/plain": [
       "<Figure size 640x480 with 1 Axes>"
      ]
     },
     "metadata": {},
     "output_type": "display_data"
    }
   ],
   "source": [
    "# plot the sentiment directions\n",
    "plt.hist(sentiment_directions, bins=20, color='skyblue', edgecolor='black')\n",
    "plt.title('Sentiment Directions Distribution')\n",
    "plt.xlabel('Sentiment Direction')\n",
    "plt.ylabel('Frequency')\n",
    "plt.show()"
   ]
  },
  {
   "cell_type": "markdown",
   "metadata": {},
   "source": [
    "### Getting the summary average content length"
   ]
  },
  {
   "cell_type": "code",
   "execution_count": 6,
   "metadata": {},
   "outputs": [
    {
     "name": "stdout",
     "output_type": "stream",
     "text": [
      "Summary of 100 articles in 100 rows\n",
      "\n",
      "Average Content Length (Summary): 300.78\n"
     ]
    }
   ],
   "source": [
    "# Load data from both methods\n",
    "summary_data = pd.read_csv(\"apnews_summary.csv\")\n",
    "\n",
    "# Print basic stats\n",
    "print(f\"Summary of {len(summary_data)} articles in {summary_data.shape[0]} rows\")\n",
    "\n",
    "# Compare text lengths (indicating completeness of data)\n",
    "summary_data[\"Content Length\"] = summary_data[\"Summary\"].str.len()\n",
    "\n",
    "print(\"\\nAverage Content Length (Summary):\", summary_data[\"Content Length\"].mean())\n",
    "\n"
   ]
  },
  {
   "cell_type": "code",
   "execution_count": 7,
   "metadata": {},
   "outputs": [
    {
     "data": {
      "image/png": "[encoded data removed]",
      "text/plain": [
       "<Figure size 640x480 with 1 Axes>"
      ]
     },
     "metadata": {},
     "output_type": "display_data"
    }
   ],
   "source": [
    "# Plotting the Average content length\n",
    "plt.hist(summary_data[\"Content Length\"], bins=20, color='skyblue', edgecolor='black')\n",
    "plt.title('Summary Content Length Distribution')\n",
    "plt.xlabel('Average Length')\n",
    "plt.ylabel('Nr of Articles')\n",
    "plt.show()"
   ]
  }
 ],
 "metadata": {
  "kernelspec": {
   "display_name": ".venv",
   "language": "python",
   "name": "python3"
  },
  "language_info": {
   "codemirror_mode": {
    "name": "ipython",
    "version": 3
   },
   "file_extension": ".py",
   "mimetype": "text/x-python",
   "name": "python",
   "nbconvert_exporter": "python",
   "pygments_lexer": "ipython3",
   "version": "3.13.2"
  }
 },
 "nbformat": 4,
 "nbformat_minor": 2
}
